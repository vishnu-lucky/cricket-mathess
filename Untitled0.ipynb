{
  "nbformat": 4,
  "nbformat_minor": 0,
  "metadata": {
    "colab": {
      "provenance": [],
      "authorship_tag": "ABX9TyO+5TjdQvY4MJCF1T04W69H",
      "include_colab_link": true
    },
    "kernelspec": {
      "name": "python3",
      "display_name": "Python 3"
    },
    "language_info": {
      "name": "python"
    }
  },
  "cells": [
    {
      "cell_type": "markdown",
      "metadata": {
        "id": "view-in-github",
        "colab_type": "text"
      },
      "source": [
        "<a href=\"https://colab.research.google.com/github/vishnu-lucky/vishnu-lucky/blob/main/Untitled0.ipynb\" target=\"_parent\"><img src=\"https://colab.research.google.com/assets/colab-badge.svg\" alt=\"Open In Colab\"/></a>"
      ]
    },
    {
      "cell_type": "code",
      "execution_count": 1,
      "metadata": {
        "colab": {
          "base_uri": "https://localhost:8080/"
        },
        "id": "TGjNLAMdwQAL",
        "outputId": "fa0aab4b-866e-43fb-d439-6439de6a16cf"
      },
      "outputs": [
        {
          "output_type": "stream",
          "name": "stdout",
          "text": [
            "enter the list 1 2 3 4 5\n",
            "3.0\n"
          ]
        }
      ],
      "source": [
        "def mean(lis):\n",
        "    return sum(lis)/len(lis)\n",
        "lis=[int(A) for A in input(\"enter the list \").split()]\n",
        "print(mean(lis))"
      ]
    },
    {
      "cell_type": "code",
      "source": [
        "def medium(lis):\n",
        "    lis.sort()\n",
        "    if(len(lis)%2)==0:\n",
        "       return  lis[len(lis) // 2 - 1] + lis[len(lis) // 2] / 2\n",
        "    else:\n",
        "        return lis[len(lis)//2]\n",
        "lis=[int(A) for A in input(\"enter the list \").split()]\n",
        "print(medium(lis))\n"
      ],
      "metadata": {
        "colab": {
          "base_uri": "https://localhost:8080/"
        },
        "id": "2VTanqSSwU44",
        "outputId": "8afc4fab-6239-4896-dd2a-7ba62084f868"
      },
      "execution_count": 2,
      "outputs": [
        {
          "output_type": "stream",
          "name": "stdout",
          "text": [
            "enter the list 1 2 3 4 5\n",
            "3\n"
          ]
        }
      ]
    },
    {
      "cell_type": "code",
      "source": [],
      "metadata": {
        "id": "u7hYatMhxGlo"
      },
      "execution_count": null,
      "outputs": []
    },
    {
      "cell_type": "code",
      "source": [
        "import statistics as st\n",
        "lis=[int(A) for A in input(\"enter the list \").split()]\n",
        "v=st.mode(lis)\n",
        "print(v)\n"
      ],
      "metadata": {
        "colab": {
          "base_uri": "https://localhost:8080/"
        },
        "id": "xePiLU6gwzOQ",
        "outputId": "9272b90d-32f2-4de6-f616-dc8bdd7e6e4e"
      },
      "execution_count": 3,
      "outputs": [
        {
          "output_type": "stream",
          "name": "stdout",
          "text": [
            "enter the list 1 1 1 2 2 2 3 3 3 3 1 2 4 \n",
            "1\n"
          ]
        }
      ]
    },
    {
      "cell_type": "code",
      "source": [],
      "metadata": {
        "id": "n2S-eK0wxHSP"
      },
      "execution_count": null,
      "outputs": []
    }
  ]
}